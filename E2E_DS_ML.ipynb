{
  "nbformat": 4,
  "nbformat_minor": 0,
  "metadata": {
    "colab": {
      "provenance": [],
      "include_colab_link": true
    },
    "kernelspec": {
      "name": "python3",
      "display_name": "Python 3"
    }
  },
  "cells": [
    {
      "cell_type": "markdown",
      "metadata": {
        "id": "view-in-github",
        "colab_type": "text"
      },
      "source": [
        "<a href=\"https://colab.research.google.com/github/Bharathyramakrishnan/Applied-Generative-AI-Specialization/blob/main/E2E_DS_ML.ipynb\" target=\"_parent\"><img src=\"https://colab.research.google.com/assets/colab-badge.svg\" alt=\"Open In Colab\"/></a>"
      ]
    },
    {
      "cell_type": "markdown",
      "metadata": {
        "id": "WPgWqg1P6ZwH"
      },
      "source": [
        "# 1. Understand the business problem\n",
        "* Define objective\n",
        "* How will DS/ML's solution be used?\n",
        "* What solutions are there in place?\n",
        "* How will you measure performance?\n",
        "    * Effectiveness (predictive performance)\n",
        "    * Efficiency (runtime)\n",
        "* Minimum performance required?\n",
        "* Metrics presented to key stakeholders\n",
        "\n",
        "**IMPORTANT NOTE:** This is the most important step of the DS/ML project lifecycle. Make sure you define performance metrics and targets.\n",
        "https://docs.google.com/document/d/1kULWC_6BQH9iisIlflGx_teGxC1t6j3jvp-TosbZRvA/edit"
      ]
    },
    {
      "cell_type": "markdown",
      "metadata": {
        "id": "WF1T7F7R6Z8G"
      },
      "source": [
        "# 2. Prepare your DS/ML environment\n",
        "\n",
        "*Why is this step relevant?*\n",
        "\n",
        "It minimizes the risk of libary conflicts when sharing your project.\n",
        "\n",
        "https://docs.conda.io/projects/conda/en/latest/user-guide/tasks/manage-environments.html"
      ]
    },
    {
      "cell_type": "code",
      "metadata": {
        "id": "MVw93nwW7m2j"
      },
      "source": [
        "# Using conda\n",
        "# The use of ! will allow you to run terminal commands from your notebook\n",
        "\n",
        "# Option 1: Create new environment from scratch\n",
        "# NOTE: ipykernel is used only to select kernel in jupyter lab or jupyter notebook\n",
        "!conda create -y -n envname python ipykernel\n",
        "!conda activate envname\n",
        "\n",
        "# Create environment yaml file\n",
        "!conda env export > filename.yaml\n",
        "\n",
        "# Option 2: Create environment from yaml file\n",
        "!conda create -f flename.yaml\n",
        "\n",
        "# Option 3: Update an existing enviromment from a yaml file\n",
        "!conda env update envname -f filename.yaml\n"
      ],
      "execution_count": null,
      "outputs": []
    },
    {
      "cell_type": "markdown",
      "metadata": {
        "id": "GgEUjokr6aCA"
      },
      "source": [
        "# 3. Get data\n",
        "\n",
        "* Find data and document sources\n",
        "* Check for space\n",
        ">* If RAM > datafile size, then do batch training\n",
        ">* If RAM < datafile size, sample or do online training\n",
        "\n",
        "* Check  terms, conditions and regulations\n",
        "* If applicable: get access\n",
        "* Create workspace / define storage location\n",
        "* Get data\n",
        "* Deal with sensitive information (delete, protect, anonymize)\n",
        "* Sample data\n"
      ]
    },
    {
      "cell_type": "code",
      "metadata": {
        "id": "vJ359bDi-7JQ"
      },
      "source": [
        "# Import libraries\n",
        "\n",
        "import numpy as np\n",
        "import pandas as pd\n",
        "import matplotlib.pyplot as plt\n",
        "%matplotlib inline\n",
        "# Visit https://ipython.readthedocs.io/en/stable/interactive/plotting.html for information on %matplotlib\n",
        "\n",
        "import seaborn as sns\n",
        "\n",
        "# Hide warnings if you are presenting your project to an audience to make your code look cleaner\n",
        "import warnings\n",
        "warnings.filterwarnings(\"ignore\")\n",
        "# Visit https://docs.python.org/3/library/warnings.html for information on warning control"
      ],
      "execution_count": null,
      "outputs": []
    },
    {
      "cell_type": "code",
      "metadata": {
        "id": "G1y2YkxgA-QS"
      },
      "source": [
        "# Option 1a: Import data from csv\n",
        "df = pd.read_csv(\"filename.csv\")\n",
        "\n",
        "# Option 1b: Import data from excel\n",
        "df = pd.read_excel(\"filename.xlsx\")\n",
        "\n",
        "# Option 2: Import data from database\n",
        "import pyodbc\n",
        "\n",
        "# Define connector to database\n",
        "driver = 'SQL Server'\n",
        "server = 'servername or ip address'\n",
        "database = 'mydb'\n",
        "username = 'myusername' #os.environ['db_usr']\n",
        "password = 'mypassword' #os.environ['db_pwd']\n",
        "table = 'mytable'\n",
        "\n",
        "connector = pyodbc.connect('DRIVER={'+driver+'};SERVER='+server+';DATABASE='+database+';UID='+username+';PWD='+password)\n",
        "\n",
        "# Define query\n",
        "query = 'SELECT * FROM '+table\n",
        "\n",
        "# Import query results into DataFrame\n",
        "df = pd.read_sql(query, connector)\n",
        "\n",
        "# Visit https://github.com/mkleehammer/pyodbc/wiki to learn more about pyobdc and its available drivers"
      ],
      "execution_count": null,
      "outputs": []
    },
    {
      "cell_type": "code",
      "source": [
        "# Option 3: Import data via API calls\n",
        "\n",
        "# Import requests\n",
        "\n",
        "import requests\n",
        "\n",
        "url = ('https://newsapi.org/v2/everything?'\n",
        "       'q=Apple&'\n",
        "       'from=2024-04-30&'\n",
        "       'sortBy=popularity&'\n",
        "       'apiKey=your_api_key' ) #os.environ['newsapi_key']\n",
        "\n",
        "response = requests.get(url)\n"
      ],
      "metadata": {
        "id": "pQ6yfjqqUmUP"
      },
      "execution_count": null,
      "outputs": []
    },
    {
      "cell_type": "code",
      "source": [
        "response.json()"
      ],
      "metadata": {
        "id": "IoZ72AYMXlMp"
      },
      "execution_count": null,
      "outputs": []
    },
    {
      "cell_type": "code",
      "source": [
        "# Option 4: Web scrapping\n",
        "#TODO: web scrapping example"
      ],
      "metadata": {
        "id": "VIuyT5dxYpGE"
      },
      "execution_count": null,
      "outputs": []
    },
    {
      "cell_type": "markdown",
      "source": [
        "[Data collection and data sampling examples](https://colab.research.google.com/drive/1KyG5XAKGE7srT49AjemM1oLpF_1WE7wA?authuser=1#scrollTo=UeMoSDqUjp8S)"
      ],
      "metadata": {
        "id": "S7Yxx_84jTO7"
      }
    },
    {
      "cell_type": "markdown",
      "metadata": {
        "id": "m4Jlglmj6aEm"
      },
      "source": [
        "# 4. Explore data to gain insights\n",
        "\n",
        "Look for:\n",
        "* Target variable (for supervised learning)\n",
        "* Is your dataset imbalanced? (for classification)\n",
        "* Size of dataset (to ensure if fits in memory)\n",
        "* Number of variables (to estimate model complexity and processing)\n",
        "* Variable data types (important for choosing hypothesis tests, [visualizations](https://www.data-to-viz.com/) and [transformations] (https://feature-engine.trainindata.com/)\n",
        "* Missing values\n",
        "* Cardinality (categorical variables)\n",
        "* Rare values (categorical variables)\n",
        "* Distributions (skewness/kurtosis)\n",
        "* Normality tests\n",
        "* Scale\n",
        "* Outliers\n",
        "* Correlations (pay particular attention in correlations with target variable)\n",
        "    - Pearson (numerical-unordered-gaussian)\n",
        "    - Spearman (numerical-ordered or unordered-not gaussian)\n",
        "    - Kendall-Tau (numerical-ordered-not gaussian)\n",
        "    - Cramer's V (categorical)\n",
        "* Hypothesis testing\n",
        "\n",
        "**Note:** the main outputs of this phase will be:\n",
        "- Data quality assessment\n",
        "- Insights\n",
        "- [Potential algorithms](https://colab.research.google.com/drive/1-LpWmCj1ZnGpwm4nDcqITFCABDy1-k63?authuser=1)\n",
        "- Feature engineering and selection strategies\n"
      ]
    },
    {
      "cell_type": "code",
      "metadata": {
        "id": "4DkQ2I8OGUk1"
      },
      "source": [
        "## Size, variables and dtypes\n",
        "df.info(memory_usage='deep')"
      ],
      "execution_count": null,
      "outputs": []
    },
    {
      "cell_type": "code",
      "metadata": {
        "id": "CfQkHLSNGkMX"
      },
      "source": [
        "# Missing values\n",
        "df.isnull().mean().sort_values(ascending=False)"
      ],
      "execution_count": null,
      "outputs": []
    },
    {
      "cell_type": "code",
      "metadata": {
        "id": "e2ugcCwIGu2W"
      },
      "source": [
        "# Cardinality\n",
        "df.describe(include='O')"
      ],
      "execution_count": null,
      "outputs": []
    },
    {
      "cell_type": "markdown",
      "metadata": {
        "id": "sVe__Mk4JhBx"
      },
      "source": [
        "When performing feature selection, you can feel safe to remove variables that meet the following conditions:\n",
        "* Cardinality >= 95% of observations\n",
        "* Cardinality == 1 (this means you have a constant categorical *variable*)"
      ]
    },
    {
      "cell_type": "code",
      "metadata": {
        "id": "q6oDHy9gG-QJ"
      },
      "source": [
        "# Rare values (for categorical ONLY)\n",
        "df.value_counts()"
      ],
      "execution_count": null,
      "outputs": []
    },
    {
      "cell_type": "code",
      "metadata": {
        "id": "PnZnAgKoHa-s"
      },
      "source": [
        "# Distributions, scale, and outliers\n",
        "df.describe()\n",
        "# For distributions, look for differences in mean vs std vs percentiles\n",
        "# For scale, look for different orders of magnitud between variables' min/max\n",
        "\n",
        "# Distributions only (for outliers, values further away from zero indicate more extreme outliers)\n",
        "df.skew().sort_values(ascending=False)\n",
        "df.kurt().sort_values(ascending=False)"
      ],
      "execution_count": null,
      "outputs": []
    },
    {
      "cell_type": "markdown",
      "source": [
        "Normality tests"
      ],
      "metadata": {
        "id": "CirG4m6Ym7Lk"
      }
    },
    {
      "cell_type": "code",
      "source": [
        "import pandas as pd\n",
        "from scipy.stats import shapiro"
      ],
      "metadata": {
        "id": "ccKPp6jim6al"
      },
      "execution_count": null,
      "outputs": []
    },
    {
      "cell_type": "code",
      "source": [
        "data = pd.read_csv('/content/sample_data/california_housing_train.csv')\n",
        "data.info(memory_usage='deep')"
      ],
      "metadata": {
        "colab": {
          "base_uri": "https://localhost:8080/"
        },
        "id": "Hue6LjNDpXhV",
        "outputId": "9085de7e-9bd2-4389-b2d2-7b90f87e4538"
      },
      "execution_count": null,
      "outputs": [
        {
          "output_type": "stream",
          "name": "stdout",
          "text": [
            "<class 'pandas.core.frame.DataFrame'>\n",
            "RangeIndex: 17000 entries, 0 to 16999\n",
            "Data columns (total 9 columns):\n",
            " #   Column              Non-Null Count  Dtype  \n",
            "---  ------              --------------  -----  \n",
            " 0   longitude           17000 non-null  float64\n",
            " 1   latitude            17000 non-null  float64\n",
            " 2   housing_median_age  17000 non-null  float64\n",
            " 3   total_rooms         17000 non-null  float64\n",
            " 4   total_bedrooms      17000 non-null  float64\n",
            " 5   population          17000 non-null  float64\n",
            " 6   households          17000 non-null  float64\n",
            " 7   median_income       17000 non-null  float64\n",
            " 8   median_house_value  17000 non-null  float64\n",
            "dtypes: float64(9)\n",
            "memory usage: 1.2 MB\n"
          ]
        }
      ]
    },
    {
      "cell_type": "code",
      "source": [
        "statistic, p_value = shapiro(data['housing_median_age'])"
      ],
      "metadata": {
        "colab": {
          "base_uri": "https://localhost:8080/"
        },
        "id": "HkgS2u1mqnrY",
        "outputId": "0235b3e8-3eb3-46a2-972e-331b8ec52c9f"
      },
      "execution_count": null,
      "outputs": [
        {
          "output_type": "stream",
          "name": "stderr",
          "text": [
            "/usr/local/lib/python3.10/dist-packages/scipy/stats/_morestats.py:1882: UserWarning: p-value may not be accurate for N > 5000.\n",
            "  warnings.warn(\"p-value may not be accurate for N > 5000.\")\n"
          ]
        }
      ]
    },
    {
      "cell_type": "code",
      "source": [
        "statistic"
      ],
      "metadata": {
        "colab": {
          "base_uri": "https://localhost:8080/"
        },
        "id": "5LsOtiT3q080",
        "outputId": "40d8028e-3b3d-49fe-98c3-eb88a3440a26"
      },
      "execution_count": null,
      "outputs": [
        {
          "output_type": "execute_result",
          "data": {
            "text/plain": [
              "0.9781268835067749"
            ]
          },
          "metadata": {},
          "execution_count": 30
        }
      ]
    },
    {
      "cell_type": "code",
      "source": [
        "p_value"
      ],
      "metadata": {
        "colab": {
          "base_uri": "https://localhost:8080/"
        },
        "id": "6E-5SsWeq3Au",
        "outputId": "ff530c4a-7474-42fd-d7ce-d800aade0ae3"
      },
      "execution_count": null,
      "outputs": [
        {
          "output_type": "execute_result",
          "data": {
            "text/plain": [
              "1.5414283107572988e-44"
            ]
          },
          "metadata": {},
          "execution_count": 31
        }
      ]
    },
    {
      "cell_type": "code",
      "source": [
        "data['median_house_value'].plot(kind='hist')"
      ],
      "metadata": {
        "colab": {
          "base_uri": "https://localhost:8080/",
          "height": 449
        },
        "id": "aZcGPQXFrJ_H",
        "outputId": "15298130-240d-4955-f539-46a907f87b72"
      },
      "execution_count": null,
      "outputs": [
        {
          "output_type": "execute_result",
          "data": {
            "text/plain": [
              "<Axes: ylabel='Frequency'>"
            ]
          },
          "metadata": {},
          "execution_count": 33
        },
        {
          "output_type": "display_data",
          "data": {
            "text/plain": [
              "<Figure size 640x480 with 1 Axes>"
            ],
            "image/png": "[encoded data removed]"
          },
          "metadata": {}
        }
      ]
    },
    {
      "cell_type": "code",
      "source": [
        "statistic, p_value = shapiro(data['median_income'])\n",
        "print(f\"Median income normality statistic: {statistic}\")\n",
        "print(f\"Median income normality p-value: {p_value}\")"
      ],
      "metadata": {
        "colab": {
          "base_uri": "https://localhost:8080/"
        },
        "id": "oukAh2BArkzh",
        "outputId": "7ba80295-3a10-4666-b5cc-18bc89e5b44b"
      },
      "execution_count": null,
      "outputs": [
        {
          "output_type": "stream",
          "name": "stdout",
          "text": [
            "Median income normality statistic: 0.8942043781280518\n",
            "Median income normality p-value: 0.0\n"
          ]
        },
        {
          "output_type": "stream",
          "name": "stderr",
          "text": [
            "/usr/local/lib/python3.10/dist-packages/scipy/stats/_morestats.py:1882: UserWarning: p-value may not be accurate for N > 5000.\n",
            "  warnings.warn(\"p-value may not be accurate for N > 5000.\")\n"
          ]
        }
      ]
    },
    {
      "cell_type": "code",
      "source": [
        "data['median_income'].plot(kind='hist')"
      ],
      "metadata": {
        "colab": {
          "base_uri": "https://localhost:8080/",
          "height": 447
        },
        "id": "7FD6oB6Sr8Rf",
        "outputId": "bf680660-e5c5-4b9c-dc6d-64618e5a528a"
      },
      "execution_count": null,
      "outputs": [
        {
          "output_type": "execute_result",
          "data": {
            "text/plain": [
              "<Axes: ylabel='Frequency'>"
            ]
          },
          "metadata": {},
          "execution_count": 35
        },
        {
          "output_type": "display_data",
          "data": {
            "text/plain": [
              "<Figure size 640x480 with 1 Axes>"
            ],
            "image/png": "[encoded data removed]"
          },
          "metadata": {}
        }
      ]
    },
    {
      "cell_type": "code",
      "metadata": {
        "id": "1U8oAYNSIKix"
      },
      "source": [
        "# Numerical Correlations\n",
        "df.corr()"
      ],
      "execution_count": null,
      "outputs": []
    },
    {
      "cell_type": "code",
      "source": [
        "# Categorical Correlations\n",
        "# V-Cramer's"
      ],
      "metadata": {
        "id": "-doDaZR9tj_a"
      },
      "execution_count": null,
      "outputs": []
    },
    {
      "cell_type": "markdown",
      "metadata": {
        "id": "XjN6VQSP6aHc"
      },
      "source": [
        "# 5. Prepare your data (*create transformers' pipeline*)\n",
        "\n",
        "## *Important notes:*\n",
        "1. Split your dataset in train and test before applying any fit method.\n",
        "2. fit ONLY training data\n",
        "3. Transform both train and test\n"
      ]
    },
    {
      "cell_type": "code",
      "metadata": {
        "id": "3e69KW2yPMsW"
      },
      "source": [
        "from sklearn.model_selection import train_test_split\n",
        "\n",
        "X = df.drop(columns=['Target'])\n",
        "y = df['Target']\n",
        "\n",
        "# For the larger the dataset, the smaller the test\n",
        "X_train, X_test, y_train, y_test = train_test_split(X, y, test_size=0.30, random_state=42)"
      ],
      "execution_count": null,
      "outputs": []
    },
    {
      "cell_type": "markdown",
      "metadata": {
        "id": "RsWJGvTKezlD"
      },
      "source": [
        "## 5.1 Feature engineering\n",
        "* Missing values\n",
        "* Label encoding\n",
        "* Variance stabilizing\n",
        "* Outlier handling\n",
        "* Scaling\n",
        "* Dimensionality reduction\n",
        "\n",
        "Deliverable:\n",
        "- Feature engineering script(s)\n"
      ]
    },
    {
      "cell_type": "markdown",
      "metadata": {
        "id": "cD2PhiQ9fres"
      },
      "source": [
        "Handling missing values:\n",
        "https://feature-engine.readthedocs.io/en/latest/imputation/index.html"
      ]
    },
    {
      "cell_type": "code",
      "metadata": {
        "id": "tkXrPHktfGll"
      },
      "source": [
        "# Numerical missing values. Use median for skewed data and mean for gaussian distributions\n",
        "\n",
        "from feature_engine.imputation import MeanMedianImputer\n",
        "num_imputer = MeanMedianImputer()\n",
        "\n",
        "# Categorical missing values will replace NaN with Missing\n",
        "from feature_engine.imputation import CategoricalImputer\n",
        "cat_imputer = CategoricalImputer(value='Missing')\n"
      ],
      "execution_count": null,
      "outputs": []
    },
    {
      "cell_type": "markdown",
      "metadata": {
        "id": "gOn9zz0uf1Wx"
      },
      "source": [
        "Categorical encoders: https://feature-engine.readthedocs.io/en/latest/encoding/index.html\n"
      ]
    },
    {
      "cell_type": "code",
      "metadata": {
        "id": "6UBJX9fLf-pm"
      },
      "source": [
        "# Rare label encoder for high cardinality variables where there may be elements in test but not in train. Will replace values with Rare\n",
        "from feature_engine.encoding import RareLabelEncoder\n",
        "rare_encoder = RareLabelEncoder(replace_with='Rare')\n",
        "\n",
        "# Select the best encoder based on your use case and dataset. If you are unsure, try OrdinalEncoder\n",
        "from feature_engine.encoding import OrdinalEncoder\n",
        "cat_encoder = OrdinalEncoder()"
      ],
      "execution_count": null,
      "outputs": []
    },
    {
      "cell_type": "markdown",
      "metadata": {
        "id": "A2aRyNj4hXzX"
      },
      "source": [
        "Handling outliers: https://feature-engine.readthedocs.io/en/latest/outliers/index.html"
      ]
    },
    {
      "cell_type": "code",
      "metadata": {
        "id": "hAltp3NrhUEU"
      },
      "source": [
        "# Winsorizer() caps maximum and / or minimum values of a variable\n",
        "\n",
        "from feature_engine.outliers import Winsorizer\n",
        "capper = Winsorizer(capping_method='iqr', tail='both', fold=1.5)"
      ],
      "execution_count": null,
      "outputs": []
    },
    {
      "cell_type": "markdown",
      "metadata": {
        "id": "lrWrUvj3ioMx"
      },
      "source": [
        "Data scaling: https://scikit-learn.org/stable/modules/generated/sklearn.preprocessing.RobustScaler.html"
      ]
    },
    {
      "cell_type": "code",
      "metadata": {
        "id": "1zwg0U-Oi1we"
      },
      "source": [
        "# The most popular scalers are StandardScaler and RobustScaler. More info in the link above\n",
        "\n",
        "# Recommended use of sklearn wrapper to continue working with DataFrames\n",
        "from sklearn.preprocessing import RobustScaler\n",
        "from feature_engine.wrappers import SklearnTransformerWrapper\n",
        "scaler = SklearnTransformerWrapper(transformer = RobustScaler())"
      ],
      "execution_count": null,
      "outputs": []
    },
    {
      "cell_type": "markdown",
      "metadata": {
        "id": "ViO-uV40kAXI"
      },
      "source": [
        "Dimensionality reduction with PCA: https://scikit-learn.org/stable/modules/generated/sklearn.decomposition.PCA.html"
      ]
    },
    {
      "cell_type": "code",
      "metadata": {
        "id": "0_Q9zZNskKjy"
      },
      "source": [
        "# Use n_components < 1 for explained variance sum and n_components > 1 for specific number of components to keep\n",
        "# Besides PCA you can also try LDA, tSNE, IsoMap, etc.\n",
        "\n",
        "from sklearn.decomposition import PCA\n",
        "dim_red = SklearnTransformerWrapper(transformer = PCA(n_components=0.95))"
      ],
      "execution_count": null,
      "outputs": []
    },
    {
      "cell_type": "markdown",
      "metadata": {
        "id": "JTEzusAM6aKG"
      },
      "source": [
        "## 5.2 Feature selection\n",
        "https://scikit-learn.org/stable/modules/feature_selection.html\n",
        "\n",
        "https://feature-engine.readthedocs.io/en/latest/selection/index.html"
      ]
    },
    {
      "cell_type": "code",
      "metadata": {
        "id": "1LLEXQ3qNi8s"
      },
      "source": [
        "# Basic feature selection: remove constant, quasi-constant and duplicate variables\n",
        "\n",
        "from feature_engine.selection import DropConstantFeatures\n",
        "cons_features = DropConstantFeatures(tol=0.95)\n",
        "\n",
        "from feature_engine.selection import DropDuplicateFeatures\n",
        "duplicates = DropDuplicateFeatures()"
      ],
      "execution_count": null,
      "outputs": []
    },
    {
      "cell_type": "code",
      "metadata": {
        "id": "BlvBuDRMlX1e"
      },
      "source": [
        "# Correlated feature selection (colinearity)\n",
        "\n",
        "# Change scoring, selection_method, and estimator when applicable\n",
        "from feature_engine.selection import SmartCorrelatedSelection\n",
        "corr_features = SmartCorrelatedSelection(selection_method=\"variance\",estimator=None)"
      ],
      "execution_count": null,
      "outputs": []
    },
    {
      "cell_type": "markdown",
      "metadata": {
        "id": "WyYeIFjBoPxC"
      },
      "source": [
        "For wrapper algorithms (Forward selection, backward selection, exhaustive search) refer to:\n",
        "* Forward/backward selection: http://rasbt.github.io/mlxtend/user_guide/feature_selection/SequentialFeatureSelector/\n",
        "* Exhaustive search: http://rasbt.github.io/mlxtend/user_guide/feature_selection/ExhaustiveFeatureSelector/\n",
        "\n",
        "*NOTE: Wrapper methods are computationally greedy and require a model to be tried on.*"
      ]
    },
    {
      "cell_type": "code",
      "metadata": {
        "id": "Do3OZHQLq-7d"
      },
      "source": [
        "# Embedded feature selection with sklearn.feature_selection.SelectFromModel\n",
        "\n",
        "# https://scikit-learn.org/stable/modules/generated/sklearn.feature_selection.SelectFromModel.html"
      ],
      "execution_count": null,
      "outputs": []
    },
    {
      "cell_type": "markdown",
      "metadata": {
        "id": "9ZWF5k4jsdTs"
      },
      "source": [
        "Hybrid feature selection techniques:\n",
        "* **SelectByShuffling**: selects features by determining the drop in machine learning model performance when each feature’s values are randomly shuffled\n",
        "* **RecursiveFeatureElimination** and RecursiveFeatureAddition: selects features following a recursive process\n"
      ]
    },
    {
      "cell_type": "code",
      "metadata": {
        "id": "OJ1wF03qsZpk"
      },
      "source": [
        "# Shuffle selector depends on a model to train\n",
        "\n",
        "from sklearn.linear_model import LinearRegression\n",
        "model = LinearRegression()\n",
        "\n",
        "from feature_engine.selection import ShuffleFeaturesSelector\n",
        "shuffle_selector = SelectByShuffling(estimator=model, scoring=\"r2\", cv=3)"
      ],
      "execution_count": null,
      "outputs": []
    },
    {
      "cell_type": "code",
      "metadata": {
        "id": "vpef-2nvzr5R"
      },
      "source": [
        "# RecursiveFeatureElimination depends on a model to train\n",
        "\n",
        "from sklearn.linear_model import LinearRegression\n",
        "model = LinearRegression()\n",
        "\n",
        "from feature_engine.selection import RecursiveFeatureElimination\n",
        "recursive_selector = RecursiveFeatureElimination(estimator=model, scoring=\"r2\", cv=3)"
      ],
      "execution_count": null,
      "outputs": []
    },
    {
      "cell_type": "markdown",
      "metadata": {
        "id": "IMu8BA-d0EMB"
      },
      "source": [
        "## 5.3 Create your transformer pipeline\n"
      ]
    },
    {
      "cell_type": "code",
      "metadata": {
        "id": "5fcgj9EMz23G"
      },
      "source": [
        "# Import make_pipeline\n",
        "from sklearn.pipeline import make_pipeline\n",
        "\n",
        "# Define pipeline steps\n",
        "transformer_pipe = make_pipeline(num_imputer,\n",
        "                                 cat_imputer,\n",
        "                                 rare_encoder,\n",
        "                                 cat_encoder,\n",
        "                                 capper,\n",
        "                                 scaler,\n",
        "                                 cons_features,\n",
        "                                 duplicates,\n",
        "                                 corr_features,\n",
        "                                 recursive_selector,\n",
        "                                 dim_red,\n",
        "                                 )\n",
        "\n",
        "#fit and transform\n",
        "X_train = transformer_pipe.fit_transform(X_train, y_train)\n",
        "X_test = transformer_pipe.transform(X_test, y_test)\n",
        "\n",
        "# Save pipeline in pickle file\n",
        "import pickle\n",
        "\n",
        "with open ('transformer_pipeline.pkl', 'wb') as name:\n",
        "  pickle.dump(transformer_pipe, name)"
      ],
      "execution_count": null,
      "outputs": []
    },
    {
      "cell_type": "markdown",
      "metadata": {
        "id": "4UXdeI_26aM3"
      },
      "source": [
        "# 6. Try different algorithms\n",
        "(https://mlflow.org/ can be used to track models’ performance and hyper parameters)\n",
        "* Try default hyperparameters first (unless you have good notion on what hyperparams will improve performance and their values)\n",
        "* Measure and compare performance\n",
        "* Short-list top 1-3 models for hyperparameter tuning\n"
      ]
    },
    {
      "cell_type": "code",
      "metadata": {
        "id": "uguwelDm2XMK"
      },
      "source": [
        "# Import algorithms to try\n",
        "\n",
        "from sklearn.linear_model import ElasticNet\n",
        "from sklearn.ensemble import RandomForestRegressor\n",
        "from xgboost import XGBRegressor\n",
        "from lightgbm import LGBMRegressor\n",
        "#from tpot import TPOTRegressor\n",
        "from catboost import CatBoostRegressor"
      ],
      "execution_count": null,
      "outputs": []
    },
    {
      "cell_type": "code",
      "metadata": {
        "id": "6WARCZuq2iI5"
      },
      "source": [
        "# Create table with models and its performance\n",
        "# IMPORTANT NOTE: change metrics and algorithms as you see fit\n",
        "\n",
        "# Define algorithms to try\n",
        "algorithms = []\n",
        "algorithms.append(('ElasticNet', ElasticNet()))\n",
        "algorithms.append(('Random Forest', RandomForestRegressor()))\n",
        "algorithms.append(('XG Boost', XGBRegressor()))\n",
        "algorithms.append(('LightGBM', LGBMRegressor()))\n",
        "#algorithms.append(('Genetic', TPOTRegressor()))\n",
        "algorithms.append(('CatBoost', CatBoostRegressor()))\n",
        "\n",
        "# Initialize lists\n",
        "names = []\n",
        "train_rmse = []\n",
        "test_rmse = []\n",
        "train_r2 = []\n",
        "test_r2 = []\n",
        "cross_validation_scores = []\n",
        "runtime = []\n",
        "\n",
        "# Iterate ofer each element in algorithms\n",
        "for name, reg in algorithms:\n",
        "  t1 = time.time()\n",
        "  names.append(name)\n",
        "  reg.fit(X_train, y_train)\n",
        "  train_rmse.append(mean_squared_error(y_train, reg.predict(X_train), squared=False))\n",
        "  test_rmse.append(mean_squared_error(y_test, reg.predict(X_test), squared=False))\n",
        "  train_r2.append(r2_score(y_train, reg.predict(X_train)))\n",
        "  test_r2.append(r2_score(y_test, reg.predict(X_test)))\n",
        "  cross_validation_scores.append(cross_val_score(reg, np.vstack((X_train, X_test)), np.hstack((y_train, y_test))).mean())\n",
        "  t2 = time.time()\n",
        "  runtime.append(t2-t1)\n",
        "\n",
        "# Create comparison dataframe\n",
        "model_comparison = pd.DataFrame({'Algorithm': names,\n",
        "                                 'Train RMSE': train_rmse,\n",
        "                                 'Test_RMSE': test_rmse,\n",
        "                                 'Train r2 score': train_r2,\n",
        "                                 'Test r2 score': test_r2,\n",
        "                                 'Cross validation score': cross_validation_scores,\n",
        "                                 'Runtime': runtime,})\n",
        "\n",
        "# Sort by Test_RMSE\n",
        "model_comparison.sort_values(by=['Test_RMSE'])"
      ],
      "execution_count": null,
      "outputs": []
    },
    {
      "cell_type": "markdown",
      "source": [
        "# 7. Hyper parameter tuning\n",
        "* GridSearch\n",
        "* RandomSearch\n",
        "* Bayesian search\n",
        "* Genetic Search\n",
        "\n",
        "  - Tensorboard\n",
        "  - MLFlow"
      ],
      "metadata": {
        "id": "s0LvedlztlNV"
      }
    },
    {
      "cell_type": "markdown",
      "source": [
        "# Model explainability\n",
        "\n",
        "- SHAP\n",
        "- LIME\n",
        "\n",
        "https://christophm.github.io/interpretable-ml-book/"
      ],
      "metadata": {
        "id": "URLjwH4P3Dt1"
      }
    },
    {
      "cell_type": "markdown",
      "source": [
        "TODO: include agentic architectures"
      ],
      "metadata": {
        "id": "k5P683HPONaZ"
      }
    },
    {
      "cell_type": "markdown",
      "source": [
        "# Model Deployment and tracking (MLOps)\n",
        "\n",
        "- Deployment (FastAPI, Flask, Django, GCP, AWS, Azure, Databricks etc.)\n",
        "- Tracking (W&B, MLFlow)"
      ],
      "metadata": {
        "id": "zqXmjPBN3Hol"
      }
    },
    {
      "cell_type": "code",
      "source": [
        "#Part 1: train and save the model\n",
        "\n",
        "from sklearn.datasets import load_iris\n",
        "from sklearn.model_selection import train_test_split\n",
        "from sklearn.ensemble import RandomForestClassifier\n",
        "from sklearn.metrics import accuracy_score\n",
        "import joblib\n",
        "\n",
        "# Load the Iris dataset\n",
        "iris = load_iris()\n",
        "X, y = iris.data, iris.target\n",
        "\n",
        "# Split the data into training and testing sets\n",
        "X_train, X_test, y_train, y_test = train_test_split(X, y, test_size=0.2, random_state=42)\n",
        "\n",
        "# Train a Random Forest classifier\n",
        "model = RandomForestClassifier()\n",
        "model.fit(X_train, y_train)\n",
        "\n",
        "#Save de mnodel to a file\n",
        "joblib.dump(model, 'iris_model.pkl')"
      ],
      "metadata": {
        "colab": {
          "base_uri": "https://localhost:8080/"
        },
        "id": "xqNqFqt0c-qQ",
        "outputId": "7d291435-2dc8-4323-cc4c-8705c81ecdf1"
      },
      "execution_count": null,
      "outputs": [
        {
          "output_type": "execute_result",
          "data": {
            "text/plain": [
              "['iris_model.pkl']"
            ]
          },
          "metadata": {},
          "execution_count": 1
        }
      ]
    },
    {
      "cell_type": "code",
      "source": [
        "!pip install fastapi uvicorn"
      ],
      "metadata": {
        "colab": {
          "base_uri": "https://localhost:8080/"
        },
        "id": "ecidKb5IyX8N",
        "outputId": "63ab3ba1-0e04-4844-a8ed-766dc1be284b"
      },
      "execution_count": null,
      "outputs": [
        {
          "output_type": "stream",
          "name": "stdout",
          "text": [
            "Collecting fastapi\n",
            "  Downloading fastapi-0.112.0-py3-none-any.whl.metadata (27 kB)\n",
            "Collecting uvicorn\n",
            "  Downloading uvicorn-0.30.5-py3-none-any.whl.metadata (6.6 kB)\n",
            "Collecting starlette<0.38.0,>=0.37.2 (from fastapi)\n",
            "  Downloading starlette-0.37.2-py3-none-any.whl.metadata (5.9 kB)\n",
            "Requirement already satisfied: pydantic!=1.8,!=1.8.1,!=2.0.0,!=2.0.1,!=2.1.0,<3.0.0,>=1.7.4 in /usr/local/lib/python3.10/dist-packages (from fastapi) (2.8.2)\n",
            "Requirement already satisfied: typing-extensions>=4.8.0 in /usr/local/lib/python3.10/dist-packages (from fastapi) (4.12.2)\n",
            "Requirement already satisfied: click>=7.0 in /usr/local/lib/python3.10/dist-packages (from uvicorn) (8.1.7)\n",
            "Collecting h11>=0.8 (from uvicorn)\n",
            "  Downloading h11-0.14.0-py3-none-any.whl.metadata (8.2 kB)\n",
            "Requirement already satisfied: annotated-types>=0.4.0 in /usr/local/lib/python3.10/dist-packages (from pydantic!=1.8,!=1.8.1,!=2.0.0,!=2.0.1,!=2.1.0,<3.0.0,>=1.7.4->fastapi) (0.7.0)\n",
            "Requirement already satisfied: pydantic-core==2.20.1 in /usr/local/lib/python3.10/dist-packages (from pydantic!=1.8,!=1.8.1,!=2.0.0,!=2.0.1,!=2.1.0,<3.0.0,>=1.7.4->fastapi) (2.20.1)\n",
            "Requirement already satisfied: anyio<5,>=3.4.0 in /usr/local/lib/python3.10/dist-packages (from starlette<0.38.0,>=0.37.2->fastapi) (3.7.1)\n",
            "Requirement already satisfied: idna>=2.8 in /usr/local/lib/python3.10/dist-packages (from anyio<5,>=3.4.0->starlette<0.38.0,>=0.37.2->fastapi) (3.7)\n",
            "Requirement already satisfied: sniffio>=1.1 in /usr/local/lib/python3.10/dist-packages (from anyio<5,>=3.4.0->starlette<0.38.0,>=0.37.2->fastapi) (1.3.1)\n",
            "Requirement already satisfied: exceptiongroup in /usr/local/lib/python3.10/dist-packages (from anyio<5,>=3.4.0->starlette<0.38.0,>=0.37.2->fastapi) (1.2.2)\n",
            "Downloading fastapi-0.112.0-py3-none-any.whl (93 kB)\n",
            "\u001b[2K   \u001b[90m━━━━━━━━━━━━━━━━━━━━━━━━━━━━━━━━━━━━━━━━\u001b[0m \u001b[32m93.1/93.1 kB\u001b[0m \u001b[31m5.3 MB/s\u001b[0m eta \u001b[36m0:00:00\u001b[0m\n",
            "\u001b[?25hDownloading uvicorn-0.30.5-py3-none-any.whl (62 kB)\n",
            "\u001b[2K   \u001b[90m━━━━━━━━━━━━━━━━━━━━━━━━━━━━━━━━━━━━━━━━\u001b[0m \u001b[32m62.8/62.8 kB\u001b[0m \u001b[31m3.8 MB/s\u001b[0m eta \u001b[36m0:00:00\u001b[0m\n",
            "\u001b[?25hDownloading h11-0.14.0-py3-none-any.whl (58 kB)\n",
            "\u001b[2K   \u001b[90m━━━━━━━━━━━━━━━━━━━━━━━━━━━━━━━━━━━━━━━━\u001b[0m \u001b[32m58.3/58.3 kB\u001b[0m \u001b[31m3.3 MB/s\u001b[0m eta \u001b[36m0:00:00\u001b[0m\n",
            "\u001b[?25hDownloading starlette-0.37.2-py3-none-any.whl (71 kB)\n",
            "\u001b[2K   \u001b[90m━━━━━━━━━━━━━━━━━━━━━━━━━━━━━━━━━━━━━━━━\u001b[0m \u001b[32m71.9/71.9 kB\u001b[0m \u001b[31m4.4 MB/s\u001b[0m eta \u001b[36m0:00:00\u001b[0m\n",
            "\u001b[?25hInstalling collected packages: h11, uvicorn, starlette, fastapi\n",
            "Successfully installed fastapi-0.112.0 h11-0.14.0 starlette-0.37.2 uvicorn-0.30.5\n"
          ]
        }
      ]
    },
    {
      "cell_type": "code",
      "source": [
        "# Part 2: Create a FastAPI Application\n",
        "from fastapi import FastAPI\n",
        "from pydantic import BaseModel\n",
        "import joblib\n",
        "import numpy as np\n",
        "\n",
        "#Initialize the FastAPI app\n",
        "app = FastAPI()\n",
        "\n",
        "# Load the trained model\n",
        "model = joblib.load('iris_model.pkl')\n",
        "\n",
        "#Define input data with Pydantic\n",
        "class IrisInput(BaseModel):\n",
        "    sepal_length: float\n",
        "    sepal_width: float\n",
        "    petal_length: float\n",
        "    petal_width: float\n",
        "\n",
        "#Define the prediction endpoint\n",
        "@app.post('/predict')\n",
        "def predict_iris(iris_data: IrisInput):\n",
        "    # Extract input data and convert to a numpy array\n",
        "    input_data = np.array([iris_data.sepal_length,\n",
        "                           iris_data.sepal_width,\n",
        "                           iris_data.petal_length,\n",
        "                           iris_data.petal_width])\n",
        "    #Make prediction\n",
        "    prediction = model.predict([input_data])\n",
        "\n",
        "    # Map the numeric prediction with the class name\n",
        "    class_names = iris.target_names\n",
        "    predicted_class = class_names[prediction[0]]\n",
        "\n",
        "    return {'predicted_class': predicted_class}\n",
        "\n",
        "# Define a basic root endpoint for testing\n",
        "\n",
        "@app.get('/')\n",
        "def read_root():\n",
        "    return {'message': 'Welcome to the Iris model prediction API!'}\n",
        "\n",
        "if __name__ == '__main__':\n",
        "    import uvicorn\n",
        "    uvicorn.run(app, host='localhost', port=8000)"
      ],
      "metadata": {
        "id": "tZcESrj2snqg"
      },
      "execution_count": null,
      "outputs": []
    },
    {
      "cell_type": "code",
      "source": [
        "#Part 3: Run FastAPI app\n",
        "\n",
        "%python app.py"
      ],
      "metadata": {
        "id": "264yd36hu_BU"
      },
      "execution_count": null,
      "outputs": []
    },
    {
      "cell_type": "code",
      "source": [
        "# Part 4: Test endpoint\n",
        "\n",
        "import requests\n",
        "\n",
        "url = 'http://localhost:8000/predict'\n",
        "\n",
        "# Create input data\n",
        "\n",
        "input_data = {\n",
        "    'sepal_length': 5.1,\n",
        "    'sepal_width': 3.5,\n",
        "    'petal_length': 1.4,\n",
        "    'petal_width': 0.2\n",
        "}\n",
        "\n",
        "# Send POST request\n",
        "\n",
        "response = requests.post(url, json=input_data)\n",
        "\n",
        "# Print response\n",
        "\n",
        "print(response.json())"
      ],
      "metadata": {
        "id": "pJv7C-IFvYac"
      },
      "execution_count": null,
      "outputs": []
    },
    {
      "cell_type": "code",
      "source": [],
      "metadata": {
        "id": "IzQioz7ixIKq"
      },
      "execution_count": null,
      "outputs": []
    }
  ]
}