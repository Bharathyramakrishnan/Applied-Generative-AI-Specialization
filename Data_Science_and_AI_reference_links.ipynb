{
  "nbformat": 4,
  "nbformat_minor": 0,
  "metadata": {
    "colab": {
      "private_outputs": true,
      "provenance": [],
      "include_colab_link": true
    },
    "kernelspec": {
      "name": "python3",
      "display_name": "Python 3"
    },
    "language_info": {
      "name": "python"
    }
  },
  "cells": [
    {
      "cell_type": "markdown",
      "metadata": {
        "id": "view-in-github",
        "colab_type": "text"
      },
      "source": [
        "<a href=\"https://colab.research.google.com/github/Bharathyramakrishnan/Applied-Generative-AI-Specialization/blob/main/Data_Science_and_AI_reference_links.ipynb\" target=\"_parent\"><img src=\"https://colab.research.google.com/assets/colab-badge.svg\" alt=\"Open In Colab\"/></a>"
      ]
    },
    {
      "cell_type": "markdown",
      "source": [
        "- **[AI/ML tools and frameworks](https://colab.research.google.com/drive/1X3MOEc6ptalJdYABu_lpMKoyUe2aqJXw)**\n",
        "- **[End to end Data Science/ML project framework](https://colab.research.google.com/drive/1TinlMTkw5WRtdcWzn9Wg3F2R4vyC9q15)**\n",
        "- **[Intro to Statistics for Data Science](https://colab.research.google.com/drive/1e7iBFEn9nr7vr1eUlqoTwO9R-74bKbJE)**\n",
        "- **[Considerations to choose a machine learning algorithm](https://colab.research.google.com/drive/1-LpWmCj1ZnGpwm4nDcqITFCABDy1-k63)**\n",
        "- **[Feature Engineering Techniques for structured data](https://colab.research.google.com/drive/1D6oNQXlmvw5KYrYgFEpbxxXjSakH6Y87)**\n",
        "- **[Data Preprocessing Techniques for unstructured data (text, audio, video and images)](https://colab.research.google.com/drive/1KV5p_6SIBbSth7QY_-6UTAAN0-TOoOvm)**\n",
        "- **[Deep Learning common types of layers.ipynb](https://colab.research.google.com/drive/17Q5A-yveSxlTW5WWr9yi4_CjnKyOtUcq)**\n",
        "- **[Examples of a simple NN with Keras, HuggingFace and PyTorch](https://colab.research.google.com/drive/17FZxrE8p2rYfyHOSiYihUvsFTikiwUQs)**\n",
        "- **[LangChain Learning Path](https://colab.research.google.com/drive/1-W36zQUbKuwbtBIHFSpc0Sq882LVoneV)**\n",
        "- **[Basics of Agentic AI with LangGraph and LangChain](https://colab.research.google.com/drive/1wGib0RKJGiyaV71D3y0KoN44HQ53SJhf)**"
      ],
      "metadata": {
        "id": "JJ-COkgM98nR"
      }
    },
    {
      "cell_type": "markdown",
      "source": [
        "For any questions or suggestions, please send an email to <a@digitalethos.academy>"
      ],
      "metadata": {
        "id": "YJXRN5RTBtqn"
      }
    },
    {
      "cell_type": "markdown",
      "source": [
        "Shorten URL to this notebook:  https://shorturl.at/gRtxS"
      ],
      "metadata": {
        "id": "RUNRSX5MiM3H"
      }
    }
  ]
}